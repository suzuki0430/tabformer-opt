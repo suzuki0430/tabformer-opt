{
 "cells": [
  {
   "cell_type": "code",
   "execution_count": null,
   "metadata": {},
   "outputs": [],
   "source": [
    "import sagemaker\n",
    "from sagemaker.estimator import Estimator\n",
    "\n",
    "session = sagemaker.Session()\n",
    "role = sagemaker.get_execution_role()"
   ]
  },
  {
   "cell_type": "code",
   "execution_count": null,
   "metadata": {},
   "outputs": [],
   "source": [
    "estimator = Estimator(\n",
    "    image_uri=\"429663746063.dkr.ecr.ap-northeast-1.amazonaws.com/tabformer-opt:tabformer-opt-sagemaker\",\n",
    "    role=role,\n",
    "    instance_type=\"ml.g4dn.2xlarge\",\n",
    "    instance_count=1,\n",
    "    base_job_name=\"tabformer-opt\",\n",
    "    output_path=\"s3://tabformer-opt/sagemaker/output_data/pre_training\",\n",
    "    code_location=\"s3://tabformer-opt/sagemaker/output_data/pre_training\",\n",
    "    sagemaker_session=session,\n",
    "    entry_point=\"pre-training.sh\",\n",
    "    dependencies=[\"tabformer-opt\"],\n",
    "    hyperparameters={\n",
    "        \"mlm\": True,\n",
    "        \"do_train\": True,\n",
    "        \"field_hs\": 64,\n",
    "        \"output_dir\": \"/opt/ml/model/\",\n",
    "        \"data_root\": \"/opt/ml/input/data/input_data/\",\n",
    "        \"data_fname\": \"summary.3.2022-10-01_2022-11-30\"\n",
    "    }\n",
    ")\n",
    "estimator.fit({\n",
    "    \"input_data\": \"s3://tabformer-opt/sagemaker/input_data/summary.3.2022-10-01_2022-11-30.csv\"\n",
    "})"
   ]
  }
 ],
 "metadata": {
  "language_info": {
   "name": "python"
  },
  "orig_nbformat": 4
 },
 "nbformat": 4,
 "nbformat_minor": 2
}
