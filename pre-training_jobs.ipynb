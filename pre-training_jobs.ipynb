{
 "cells": [
  {
   "cell_type": "code",
   "execution_count": null,
   "metadata": {},
   "outputs": [],
   "source": [
    "import sagemaker\n",
    "from sagemaker.estimator import Estimator\n",
    "\n",
    "session = sagemaker.Session()\n",
    "role = sagemaker.get_execution_role()"
   ]
  },
  {
   "cell_type": "code",
   "execution_count": null,
   "metadata": {},
   "outputs": [],
   "source": [
    "estimator = Estimator(\n",
    "    image_uri=\"429663746063.dkr.ecr.ap-northeast-1.amazonaws.com/tabformer-opt:tabformer-opt-sagemaker\",\n",
    "    role=role,\n",
    "    instance_type=\"ml.g4dn.2xlarge\",\n",
    "    instance_count=1,\n",
    "    # output_path=\"\",\n",
    "    # code_location=\"\",\n",
    "    sagemaker_session=session,\n",
    "    entry_point=\"pre-training.sh\",\n",
    "    dependencies=[\"tabformer-opt\"],\n",
    "    hyperparameters={\n",
    "        \"mlm\": True,\n",
    "        \"do_train\": True,\n",
    "        \"field_hs\": 64,\n",
    "        \"output_dir\": \"./output_pretraining/action_history/\"\n",
    "    }\n",
    ")\n",
    "estimator.fit()"
   ]
  }
 ],
 "metadata": {
  "language_info": {
   "name": "python"
  },
  "orig_nbformat": 4
 },
 "nbformat": 4,
 "nbformat_minor": 2
}
