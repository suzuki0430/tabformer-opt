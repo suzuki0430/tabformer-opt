{
 "cells": [
  {
   "cell_type": "code",
   "execution_count": null,
   "metadata": {},
   "outputs": [],
   "source": [
    "import sagemaker\n",
    "from sagemaker.estimator import Estimator\n",
    "\n",
    "session = sagemaker.Session()\n",
    "role = sagemaker.get_execution_role()"
   ]
  },
  {
   "cell_type": "code",
   "execution_count": null,
   "metadata": {},
   "outputs": [],
   "source": [
    "estimator = Estimator(\n",
    "    image_uri=\"429663746063.dkr.ecr.ap-northeast-1.amazonaws.com/tabformer-opt:tabformer-opt-sagemaker\",\n",
    "    role=role,\n",
    "    instance_type=\"ml.g4dn.2xlarge\",\n",
    "    instance_count=1,\n",
    "    base_job_name=\"tabformer-opt-fine-tuning\",\n",
    "    output_path=\"s3://tabformer-opt/sagemaker/output_data/fine_tuning\",\n",
    "    code_location=\"s3://tabformer-opt/sagemaker/output_data/fine_tuning\",\n",
    "    sagemaker_session=session,\n",
    "    entry_point=\"fine-tuning.sh\",\n",
    "    dependencies=[\"tabformer-opt\"],\n",
    "    hyperparameters={\n",
    "        \"data_root\": \"/opt/ml/input/data/input_data/\",\n",
    "        \"data_fname\": \"summary.3.2022-10-01_2022-11-30\",\n",
    "        \"output_dir\": \"/opt/ml/model/\",\n",
    "        \"model_path\": \"/opt/ml/input/data/input_model/\",\n",
    "    }\n",
    ")\n",
    "estimator.fit({\n",
    "    \"input_data\": \"s3://tabformer-opt/sagemaker/input_data/summary.3.2022-10-01_2022-11-30.csv\",\n",
    "    \"input_model\": \"s3://tabformer-opt/sagemaker/output_data/pre_training/tabformer-opt-2022-12-16-07-00-45-931/output/model.tar.gz\"\n",
    "})"
   ]
  }
 ],
 "metadata": {
  "kernelspec": {
   "display_name": "Python 3",
   "language": "python",
   "name": "python3"
  },
  "language_info": {
   "name": "python",
   "version": "3.9.9 (main, Nov 21 2021, 03:22:47) \n[Clang 12.0.0 (clang-1200.0.32.29)]"
  },
  "orig_nbformat": 4,
  "vscode": {
   "interpreter": {
    "hash": "aee8b7b246df8f9039afb4144a1f6fd8d2ca17a180786b69acc140d282b71a49"
   }
  }
 },
 "nbformat": 4,
 "nbformat_minor": 2
}
